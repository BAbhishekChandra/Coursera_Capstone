# This a Notebook for IBM Capstone Project
import pandas as pd
import numpy as np
print("Hello Capstone Project Course!")
